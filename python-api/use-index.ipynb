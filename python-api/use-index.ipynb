{
 "cells": [
  {
   "cell_type": "code",
   "execution_count": 1,
   "id": "6bacf8e9",
   "metadata": {},
   "outputs": [],
   "source": [
    "source = 'react'"
   ]
  },
  {
   "cell_type": "code",
   "execution_count": 2,
   "id": "2756ea0a",
   "metadata": {},
   "outputs": [],
   "source": [
    "import chromadb\n",
    "from chromadb.config import Settings\n",
    "from chromadb.utils import embedding_functions\n",
    "from IPython.display import display_markdown"
   ]
  },
  {
   "cell_type": "code",
   "execution_count": 3,
   "id": "fd313e77",
   "metadata": {},
   "outputs": [
    {
     "name": "stderr",
     "output_type": "stream",
     "text": [
      "Using embedded DuckDB with persistence: data will be stored in: ./db/source_react\n"
     ]
    }
   ],
   "source": [
    "chroma_client = chromadb.Client(Settings(\n",
    "    chroma_db_impl='duckdb+parquet',\n",
    "    persist_directory=\"./db\" # Optional, defaults to .chromadb/ in the current directory\n",
    "    )\n",
    ")"
   ]
  },
  {
   "cell_type": "code",
   "execution_count": 4,
   "id": "446ae026",
   "metadata": {},
   "outputs": [
    {
     "name": "stderr",
     "output_type": "stream",
     "text": [
      "/home/lucas/fluff/markdown-idx/python-api/.venv/lib/python3.10/site-packages/InstructorEmbedding/instructor.py:7: TqdmWarning: IProgress not found. Please update jupyter and ipywidgets. See https://ipywidgets.readthedocs.io/en/stable/user_install.html\n",
      "  from tqdm.autonotebook import trange\n"
     ]
    },
    {
     "name": "stdout",
     "output_type": "stream",
     "text": [
      "load INSTRUCTOR_Transformer\n",
      "max_seq_length  512\n"
     ]
    }
   ],
   "source": [
    "ef = embedding_functions.InstructorEmbeddingFunction(\n",
    "model_name=\"hkunlp/instructor-large\", device=\"cuda\")"
   ]
  },
  {
   "cell_type": "code",
   "execution_count": 5,
   "id": "63d598a7",
   "metadata": {},
   "outputs": [],
   "source": [
    "collection = chroma_client.get_collection(name=source, embedding_function=ef)\n"
   ]
  },
  {
   "cell_type": "code",
   "execution_count": 6,
   "id": "906c87e6",
   "metadata": {},
   "outputs": [],
   "source": [
    "# collection.create_index()"
   ]
  },
  {
   "cell_type": "code",
   "execution_count": 7,
   "id": "8638ad88",
   "metadata": {},
   "outputs": [
    {
     "name": "stdout",
     "output_type": "stream",
     "text": [
      "100\n"
     ]
    }
   ],
   "source": [
    "print(collection.count())"
   ]
  },
  {
   "cell_type": "code",
   "execution_count": 8,
   "id": "22515e34",
   "metadata": {},
   "outputs": [],
   "source": [
    "results = collection.query(\n",
    "    query_texts=[\"When is data really deleted in Clickhouse with the new `DELETE` query\"],\n",
    "    n_results=10\n",
    ")"
   ]
  },
  {
   "cell_type": "code",
   "execution_count": 9,
   "id": "0a624935",
   "metadata": {},
   "outputs": [],
   "source": [
    "import json\n",
    "with open(f\"../md-to-prompt/{source}.json\", \"r\") as f:\n",
    "    corpus = json.loads(f.read())"
   ]
  },
  {
   "cell_type": "code",
   "execution_count": 10,
   "id": "9872548b",
   "metadata": {},
   "outputs": [
    {
     "name": "stdout",
     "output_type": "stream",
     "text": [
      "4970\n"
     ]
    }
   ],
   "source": [
    "print(len(corpus))"
   ]
  },
  {
   "cell_type": "code",
   "execution_count": 11,
   "id": "e2f9e304",
   "metadata": {},
   "outputs": [
    {
     "name": "stdout",
     "output_type": "stream",
     "text": [
      "10\n"
     ]
    }
   ],
   "source": [
    "print(len(results['ids'][0]))"
   ]
  },
  {
   "cell_type": "code",
   "execution_count": 12,
   "id": "a5205f77",
   "metadata": {
    "scrolled": false
   },
   "outputs": [
    {
     "name": "stdout",
     "output_type": "stream",
     "text": [
      "41\n",
      "docs/react/learn/extracting-state-logic-into-a-reducer.md > Consolidate state logic with a reducer {/consolidate-state-logic-with-a-reducer/}\n",
      "0.3646610975265503\n",
      "\n"
     ]
    },
    {
     "data": {
      "text/markdown": [
       "```js TaskList.js hidden\n",
       "import { useState } from 'react';\n",
       "\n",
       "export default function TaskList({tasks, onChangeTask, onDeleteTask}) {\n",
       "  return (\n",
       "    <ul>\n",
       "      {tasks.map((task) => (\n",
       "        <li key={task.id}>\n",
       "          <Task task={task} onChange={onChangeTask} onDelete={onDeleteTask} />\n",
       "        </li>\n",
       "      ))}\n",
       "    </ul>\n",
       "  );\n",
       "}\n",
       "\n",
       "function Task({task, onChange, onDelete}) {\n",
       "  const [isEditing, setIsEditing] = useState(false);\n",
       "  let taskContent;\n",
       "  if (isEditing) {\n",
       "    taskContent = (\n",
       "      <>\n",
       "        <input\n",
       "          value={task.text}\n",
       "          onChange={(e) => {\n",
       "            onChange({\n",
       "              ...task,\n",
       "              text: e.target.value,\n",
       "            });\n",
       "          }}\n",
       "        />\n",
       "        <button onClick={() => setIsEditing(false)}>Save</button>\n",
       "      </>\n",
       "    );\n",
       "  } else {\n",
       "    taskContent = (\n",
       "      <>\n",
       "        {task.text}\n",
       "        <button onClick={() => setIsEditing(true)}>Edit</button>\n",
       "      </>\n",
       "    );\n",
       "  }\n",
       "  return (\n",
       "    <label>\n",
       "      <input\n",
       "        type=\"checkbox\"\n",
       "        checked={task.done}\n",
       "        onChange={(e) => {\n",
       "          onChange({\n",
       "            ...task,\n",
       "            done: e.target.checked,\n",
       "          });\n",
       "        }}\n",
       "      />\n",
       "      {taskContent}\n",
       "      <button onClick={() => onDelete(task.id)}>Delete</button>\n",
       "    </label>\n",
       "  );\n",
       "}\n",
       "```\n"
      ]
     },
     "metadata": {},
     "output_type": "display_data"
    },
    {
     "name": "stdout",
     "output_type": "stream",
     "text": [
      "\n",
      "\n",
      "\n",
      "80\n",
      "docs/react/learn/extracting-state-logic-into-a-reducer.md > Writing concise reducers with Immer {/writing-concise-reducers-with-immer/}\n",
      "0.36896246671676636\n",
      "\n"
     ]
    },
    {
     "data": {
      "text/markdown": [
       "```js TaskList.js hidden\n",
       "import { useState } from 'react';\n",
       "\n",
       "export default function TaskList({tasks, onChangeTask, onDeleteTask}) {\n",
       "  return (\n",
       "    <ul>\n",
       "      {tasks.map((task) => (\n",
       "        <li key={task.id}>\n",
       "          <Task task={task} onChange={onChangeTask} onDelete={onDeleteTask} />\n",
       "        </li>\n",
       "      ))}\n",
       "    </ul>\n",
       "  );\n",
       "}\n",
       "\n",
       "function Task({task, onChange, onDelete}) {\n",
       "  const [isEditing, setIsEditing] = useState(false);\n",
       "  let taskContent;\n",
       "  if (isEditing) {\n",
       "    taskContent = (\n",
       "      <>\n",
       "        <input\n",
       "          value={task.text}\n",
       "          onChange={(e) => {\n",
       "            onChange({\n",
       "              ...task,\n",
       "              text: e.target.value,\n",
       "            });\n",
       "          }}\n",
       "        />\n",
       "        <button onClick={() => setIsEditing(false)}>Save</button>\n",
       "      </>\n",
       "    );\n",
       "  } else {\n",
       "    taskContent = (\n",
       "      <>\n",
       "        {task.text}\n",
       "        <button onClick={() => setIsEditing(true)}>Edit</button>\n",
       "      </>\n",
       "    );\n",
       "  }\n",
       "  return (\n",
       "    <label>\n",
       "      <input\n",
       "        type=\"checkbox\"\n",
       "        checked={task.done}\n",
       "        onChange={(e) => {\n",
       "          onChange({\n",
       "            ...task,\n",
       "            done: e.target.checked,\n",
       "          });\n",
       "        }}\n",
       "      />\n",
       "      {taskContent}\n",
       "      <button onClick={() => onDelete(task.id)}>Delete</button>\n",
       "    </label>\n",
       "  );\n",
       "}\n",
       "```\n"
      ]
     },
     "metadata": {},
     "output_type": "display_data"
    },
    {
     "name": "stdout",
     "output_type": "stream",
     "text": [
      "\n",
      "\n",
      "\n",
      "76\n",
      "docs/react/learn/extracting-state-logic-into-a-reducer.md > Writing reducers well {/writing-reducers-well/}\n",
      "0.3841404318809509\n",
      "\n"
     ]
    },
    {
     "data": {
      "text/markdown": [
       "Keep these two tips in mind when writing reducers:\n",
       "*   **Reducers must be pure.** Similar to [state updater functions](/learn/queueing-a-series-of-state-updates), reducers run during rendering! (Actions are queued until the next render.) This means that reducers [must be pure](/learn/keeping-components-pure)—same inputs always result in the same output. They should not send requests, schedule timeouts, or perform any side effects (operations that impact things outside the component). They should update [objects](/learn/updating-objects-in-state) and [arrays](/learn/updating-arrays-in-state) without mutations.\n",
       "*   **Each action describes a single user interaction, even if that leads to multiple changes in the data.** For example, if a user presses \"Reset\" on a form with five fields managed by a reducer, it makes more sense to dispatch one `reset_form` action rather than five separate `set_field` actions. If you log every action in a reducer, that log should be clear enough for you to reconstruct what interactions or responses happened in what order. This helps with debugging!\n"
      ]
     },
     "metadata": {},
     "output_type": "display_data"
    },
    {
     "name": "stdout",
     "output_type": "stream",
     "text": [
      "\n",
      "\n",
      "\n",
      "39\n",
      "docs/react/learn/extracting-state-logic-into-a-reducer.md > Consolidate state logic with a reducer {/consolidate-state-logic-with-a-reducer/}\n",
      "0.3915885388851166\n",
      "\n"
     ]
    },
    {
     "data": {
      "text/markdown": [
       "```js App.js\n",
       "import { useState } from 'react';\n",
       "import AddTask from './AddTask.js';\n",
       "import TaskList from './TaskList.js';\n",
       "\n",
       "export default function TaskApp() {\n",
       "  const [tasks, setTasks] = useState(initialTasks);\n",
       "\n",
       "  function handleAddTask(text) {\n",
       "    setTasks([\n",
       "      ...tasks,\n",
       "      {\n",
       "        id: nextId++,\n",
       "        text: text,\n",
       "        done: false,\n",
       "      },\n",
       "    ]);\n",
       "  }\n",
       "\n",
       "  function handleChangeTask(task) {\n",
       "    setTasks(\n",
       "      tasks.map((t) => {\n",
       "        if (t.id === task.id) {\n",
       "          return task;\n",
       "        } else {\n",
       "          return t;\n",
       "        }\n",
       "      })\n",
       "    );\n",
       "  }\n",
       "\n",
       "  function handleDeleteTask(taskId) {\n",
       "    setTasks(tasks.filter((t) => t.id !== taskId));\n",
       "  }\n",
       "\n",
       "  return (\n",
       "    <>\n",
       "      <h1>Prague itinerary</h1>\n",
       "      <AddTask onAddTask={handleAddTask} />\n",
       "      <TaskList\n",
       "        tasks={tasks}\n",
       "        onChangeTask={handleChangeTask}\n",
       "        onDeleteTask={handleDeleteTask}\n",
       "      />\n",
       "    </>\n",
       "  );\n",
       "}\n",
       "\n",
       "let nextId = 3;\n",
       "const initialTasks = [\n",
       "  {id: 0, text: 'Visit Kafka Museum', done: true},\n",
       "  {id: 1, text: 'Watch a puppet show', done: false},\n",
       "  {id: 2, text: 'Lennon Wall pic', done: false},\n",
       "];\n",
       "```\n"
      ]
     },
     "metadata": {},
     "output_type": "display_data"
    },
    {
     "name": "stdout",
     "output_type": "stream",
     "text": [
      "\n",
      "\n",
      "\n",
      "55\n",
      "docs/react/learn/extracting-state-logic-into-a-reducer.md > Consolidate state logic with a reducer {/consolidate-state-logic-with-a-reducer/} > Step 2: Write a reducer function {/step-2-write-a-reducer-function/}\n",
      "0.392233669757843\n",
      "\n"
     ]
    },
    {
     "data": {
      "text/markdown": [
       "We'll be using them throughout the rest of this documentation like so:\n",
       "```js\n",
       "function tasksReducer(tasks, action) {\n",
       "  switch (action.type) {\n",
       "    case 'added': {\n",
       "      return [\n",
       "        ...tasks,\n",
       "        {\n",
       "          id: action.id,\n",
       "          text: action.text,\n",
       "          done: false,\n",
       "        },\n",
       "      ];\n",
       "    }\n",
       "    case 'changed': {\n",
       "      return tasks.map((t) => {\n",
       "        if (t.id === action.task.id) {\n",
       "          return action.task;\n",
       "        } else {\n",
       "          return t;\n",
       "        }\n",
       "      });\n",
       "    }\n",
       "    case 'deleted': {\n",
       "      return tasks.filter((t) => t.id !== action.id);\n",
       "    }\n",
       "    default: {\n",
       "      throw Error('Unknown action: ' + action.type);\n",
       "    }\n",
       "  }\n",
       "}\n",
       "```\n"
      ]
     },
     "metadata": {},
     "output_type": "display_data"
    },
    {
     "name": "stdout",
     "output_type": "stream",
     "text": [
      "\n",
      "\n",
      "\n",
      "53\n",
      "docs/react/learn/extracting-state-logic-into-a-reducer.md > Consolidate state logic with a reducer {/consolidate-state-logic-with-a-reducer/} > Step 2: Write a reducer function {/step-2-write-a-reducer-function/}\n",
      "0.3923594355583191\n",
      "\n"
     ]
    },
    {
     "data": {
      "text/markdown": [
       "Here is all the state setting logic migrated to a reducer function:\n",
       "```js\n",
       "function tasksReducer(tasks, action) {\n",
       "  if (action.type === 'added') {\n",
       "    return [\n",
       "      ...tasks,\n",
       "      {\n",
       "        id: action.id,\n",
       "        text: action.text,\n",
       "        done: false,\n",
       "      },\n",
       "    ];\n",
       "  } else if (action.type === 'changed') {\n",
       "    return tasks.map((t) => {\n",
       "      if (t.id === action.task.id) {\n",
       "        return action.task;\n",
       "      } else {\n",
       "        return t;\n",
       "      }\n",
       "    });\n",
       "  } else if (action.type === 'deleted') {\n",
       "    return tasks.filter((t) => t.id !== action.id);\n",
       "  } else {\n",
       "    throw Error('Unknown action: ' + action.type);\n",
       "  }\n",
       "}\n",
       "```\n"
      ]
     },
     "metadata": {},
     "output_type": "display_data"
    },
    {
     "name": "stdout",
     "output_type": "stream",
     "text": [
      "\n",
      "\n",
      "\n",
      "95\n",
      "docs/react/learn/extracting-state-logic-into-a-reducer.md > Writing concise reducers with Immer {/writing-concise-reducers-with-immer/} > Dispatch actions from event handlers {/dispatch-actions-from-event-handlers/}\n",
      "0.3962547183036804\n",
      "\n"
     ]
    },
    {
     "data": {
      "text/markdown": [
       "```js ContactList.js\n",
       "export default function ContactList({contacts, selectedId, dispatch}) {\n",
       "  return (\n",
       "    <section className=\"contact-list\">\n",
       "      <ul>\n",
       "        {contacts.map((contact) => (\n",
       "          <li key={contact.id}>\n",
       "            <button\n",
       "              onClick={() => {\n",
       "                dispatch({\n",
       "                  type: 'changed_selection',\n",
       "                  contactId: contact.id,\n",
       "                });\n",
       "              }}>\n",
       "              {selectedId === contact.id ? <b>{contact.name}</b> : contact.name}\n",
       "            </button>\n",
       "          </li>\n",
       "        ))}\n",
       "      </ul>\n",
       "    </section>\n",
       "  );\n",
       "}\n",
       "```\n"
      ]
     },
     "metadata": {},
     "output_type": "display_data"
    },
    {
     "name": "stdout",
     "output_type": "stream",
     "text": [
      "\n",
      "\n",
      "\n",
      "61\n",
      "docs/react/learn/extracting-state-logic-into-a-reducer.md > Consolidate state logic with a reducer {/consolidate-state-logic-with-a-reducer/} > Step 2: Write a reducer function {/step-2-write-a-reducer-function/} > Why are reducers called this way? {/why-are-reducers-called-this-way/}\n",
      "0.3974440097808838\n",
      "\n"
     ]
    },
    {
     "data": {
      "text/markdown": [
       "```js tasksReducer.js\n",
       "export default function tasksReducer(tasks, action) {\n",
       "  switch (action.type) {\n",
       "    case 'added': {\n",
       "      return [\n",
       "        ...tasks,\n",
       "        {\n",
       "          id: action.id,\n",
       "          text: action.text,\n",
       "          done: false,\n",
       "        },\n",
       "      ];\n",
       "    }\n",
       "    case 'changed': {\n",
       "      return tasks.map((t) => {\n",
       "        if (t.id === action.task.id) {\n",
       "          return action.task;\n",
       "        } else {\n",
       "          return t;\n",
       "        }\n",
       "      });\n",
       "    }\n",
       "    case 'deleted': {\n",
       "      return tasks.filter((t) => t.id !== action.id);\n",
       "    }\n",
       "    default: {\n",
       "      throw Error('Unknown action: ' + action.type);\n",
       "    }\n",
       "  }\n",
       "}\n",
       "```\n"
      ]
     },
     "metadata": {},
     "output_type": "display_data"
    },
    {
     "name": "stdout",
     "output_type": "stream",
     "text": [
      "\n",
      "\n",
      "\n",
      "78\n",
      "docs/react/learn/extracting-state-logic-into-a-reducer.md > Writing concise reducers with Immer {/writing-concise-reducers-with-immer/}\n",
      "0.3988442122936249\n",
      "\n"
     ]
    },
    {
     "data": {
      "text/markdown": [
       "```js App.js\n",
       "import { useImmerReducer } from 'use-immer';\n",
       "import AddTask from './AddTask.js';\n",
       "import TaskList from './TaskList.js';\n",
       "\n",
       "function tasksReducer(draft, action) {\n",
       "  switch (action.type) {\n",
       "    case 'added': {\n",
       "      draft.push({\n",
       "        id: action.id,\n",
       "        text: action.text,\n",
       "        done: false,\n",
       "      });\n",
       "      break;\n",
       "    }\n",
       "    case 'changed': {\n",
       "      const index = draft.findIndex((t) => t.id === action.task.id);\n",
       "      draft[index] = action.task;\n",
       "      break;\n",
       "    }\n",
       "    case 'deleted': {\n",
       "      return draft.filter((t) => t.id !== action.id);\n",
       "    }\n",
       "    default: {\n",
       "      throw Error('Unknown action: ' + action.type);\n",
       "    }\n",
       "  }\n",
       "}\n",
       "\n",
       "export default function TaskApp() {\n",
       "  const [tasks, dispatch] = useImmerReducer(tasksReducer, initialTasks);\n",
       "\n",
       "  function handleAddTask(text) {\n",
       "    dispatch({\n",
       "      type: 'added',\n",
       "      id: nextId++,\n",
       "      text: text,\n",
       "    });\n",
       "  }\n",
       "\n",
       "  function handleChangeTask(task) {\n",
       "    dispatch({\n",
       "      type: 'changed',\n",
       "      task: task,\n",
       "    });\n",
       "  }\n",
       "\n",
       "  function handleDeleteTask(taskId) {\n",
       "    dispatch({\n",
       "      type: 'deleted',\n",
       "      id: taskId,\n",
       "    });\n",
       "  }\n",
       "\n",
       "  return (\n",
       "    <>\n",
       "      <h1>Prague itinerary</h1>\n",
       "      <AddTask onAddTask={handleAddTask} />\n",
       "      <TaskList\n",
       "        tasks={tasks}\n",
       "        onChangeTask={handleChangeTask}\n",
       "        onDeleteTask={handleDeleteTask}\n",
       "      />\n",
       "    </>\n",
       "  );\n",
       "}\n",
       "\n",
       "let nextId = 3;\n",
       "const initialTasks = [\n",
       "  {id: 0, text: 'Visit Kafka Museum', done: true},\n",
       "  {id: 1, text: 'Watch a puppet show', done: false},\n",
       "  {id: 2, text: 'Lennon Wall pic', done: false},\n",
       "];\n",
       "```\n"
      ]
     },
     "metadata": {},
     "output_type": "display_data"
    },
    {
     "name": "stdout",
     "output_type": "stream",
     "text": [
      "\n",
      "\n",
      "\n",
      "89\n",
      "docs/react/learn/extracting-state-logic-into-a-reducer.md > Writing concise reducers with Immer {/writing-concise-reducers-with-immer/} > Dispatch actions from event handlers {/dispatch-actions-from-event-handlers/}\n",
      "0.40159347653388977\n",
      "\n"
     ]
    },
    {
     "data": {
      "text/markdown": [
       "```js ContactList.js\n",
       "export default function ContactList({contacts, selectedId, dispatch}) {\n",
       "  return (\n",
       "    <section className=\"contact-list\">\n",
       "      <ul>\n",
       "        {contacts.map((contact) => (\n",
       "          <li key={contact.id}>\n",
       "            <button\n",
       "              onClick={() => {\n",
       "                // TODO: dispatch changed_selection\n",
       "              }}>\n",
       "              {selectedId === contact.id ? <b>{contact.name}</b> : contact.name}\n",
       "            </button>\n",
       "          </li>\n",
       "        ))}\n",
       "      </ul>\n",
       "    </section>\n",
       "  );\n",
       "}\n",
       "```\n"
      ]
     },
     "metadata": {},
     "output_type": "display_data"
    },
    {
     "name": "stdout",
     "output_type": "stream",
     "text": [
      "\n",
      "\n",
      "\n"
     ]
    }
   ],
   "source": [
    "for a,b in zip(results['ids'][0], results['distances'][0]):\n",
    "    idx = int(a)\n",
    "    print(idx)\n",
    "    print(\" > \".join(corpus[idx][\"headings\"]))\n",
    "    print(b)\n",
    "    print()\n",
    "    display_markdown(corpus[idx][\"content\"], raw=True)\n",
    "    print()\n",
    "    print()\n",
    "    print()"
   ]
  },
  {
   "cell_type": "code",
   "execution_count": 13,
   "id": "f5c2d990",
   "metadata": {},
   "outputs": [
    {
     "data": {
      "text/plain": [
       "True"
      ]
     },
     "execution_count": 13,
     "metadata": {},
     "output_type": "execute_result"
    }
   ],
   "source": [
    "chroma_client.persist()"
   ]
  },
  {
   "cell_type": "code",
   "execution_count": null,
   "id": "67f97b3c",
   "metadata": {},
   "outputs": [],
   "source": []
  }
 ],
 "metadata": {
  "kernelspec": {
   "display_name": ".venv",
   "language": "python",
   "name": ".venv"
  },
  "language_info": {
   "codemirror_mode": {
    "name": "ipython",
    "version": 3
   },
   "file_extension": ".py",
   "mimetype": "text/x-python",
   "name": "python",
   "nbconvert_exporter": "python",
   "pygments_lexer": "ipython3",
   "version": "3.10.6"
  }
 },
 "nbformat": 4,
 "nbformat_minor": 5
}
