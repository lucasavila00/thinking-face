{
 "cells": [
  {
   "cell_type": "code",
   "execution_count": 1,
   "id": "30e7fff9",
   "metadata": {},
   "outputs": [],
   "source": [
    "source = 'react'"
   ]
  },
  {
   "cell_type": "code",
   "execution_count": 2,
   "id": "1742fe75",
   "metadata": {},
   "outputs": [
    {
     "name": "stderr",
     "output_type": "stream",
     "text": [
      "Using embedded DuckDB with persistence: data will be stored in: ./db/\n"
     ]
    }
   ],
   "source": [
    "import chromadb\n",
    "from chromadb.utils import embedding_functions\n",
    "from chromadb.config import Settings\n",
    "\n",
    "chroma_client = chromadb.Client(Settings(\n",
    "    chroma_db_impl='duckdb+parquet',\n",
    "    persist_directory=\"./db/\" # Optional, defaults to .chromadb/ in the current directory\n",
    "    )\n",
    ")"
   ]
  },
  {
   "cell_type": "code",
   "execution_count": 3,
   "id": "f33e85b9",
   "metadata": {},
   "outputs": [],
   "source": [
    "from chromadb.utils import embedding_functions"
   ]
  },
  {
   "cell_type": "code",
   "execution_count": 4,
   "id": "50f1e42b",
   "metadata": {},
   "outputs": [
    {
     "name": "stderr",
     "output_type": "stream",
     "text": [
      "/home/lucas/fluff/semsearch/.venv/lib/python3.10/site-packages/InstructorEmbedding/instructor.py:7: TqdmWarning: IProgress not found. Please update jupyter and ipywidgets. See https://ipywidgets.readthedocs.io/en/stable/user_install.html\n",
      "  from tqdm.autonotebook import trange\n"
     ]
    },
    {
     "name": "stdout",
     "output_type": "stream",
     "text": [
      "load INSTRUCTOR_Transformer\n",
      "max_seq_length  512\n"
     ]
    }
   ],
   "source": [
    "ef = embedding_functions.InstructorEmbeddingFunction(\n",
    "model_name=\"hkunlp/instructor-large\", device=\"cuda\")"
   ]
  },
  {
   "cell_type": "code",
   "execution_count": 5,
   "id": "45e50a3b",
   "metadata": {},
   "outputs": [],
   "source": [
    "import json\n",
    "with open(f\"../md-to-prompt/{source}.json\", \"r\") as f:\n",
    "    corpus = json.loads(f.read())"
   ]
  },
  {
   "cell_type": "code",
   "execution_count": 6,
   "id": "923f7abc",
   "metadata": {},
   "outputs": [],
   "source": [
    "# corpus=corpus[0:100]"
   ]
  },
  {
   "cell_type": "code",
   "execution_count": 7,
   "id": "a68f7dcf",
   "metadata": {},
   "outputs": [],
   "source": [
    "# corpus"
   ]
  },
  {
   "cell_type": "code",
   "execution_count": 8,
   "id": "a3b82ec1",
   "metadata": {},
   "outputs": [
    {
     "name": "stdout",
     "output_type": "stream",
     "text": [
      "4970\n"
     ]
    }
   ],
   "source": [
    "print(len(corpus))"
   ]
  },
  {
   "cell_type": "code",
   "execution_count": 9,
   "id": "b8f9aeab",
   "metadata": {},
   "outputs": [],
   "source": [
    "# raise 1"
   ]
  },
  {
   "cell_type": "code",
   "execution_count": 10,
   "id": "c9ff0368",
   "metadata": {},
   "outputs": [
    {
     "name": "stdout",
     "output_type": "stream",
     "text": [
      "list index out of range\n"
     ]
    }
   ],
   "source": [
    "try:\n",
    "    chroma_client.delete_collection(name=source,)\n",
    "except Exception as e:\n",
    "    print(e)"
   ]
  },
  {
   "cell_type": "code",
   "execution_count": 11,
   "id": "dbeef613",
   "metadata": {},
   "outputs": [],
   "source": [
    "collection = chroma_client.create_collection(name=source, embedding_function=ef)"
   ]
  },
  {
   "cell_type": "code",
   "execution_count": 12,
   "id": "bee675b7",
   "metadata": {},
   "outputs": [],
   "source": [
    "def merge_content(it):\n",
    "    path = \" / \".join(it[\"headings\"])\n",
    "    c = it[\"content\"]\n",
    "    return \"This document path is: \" + path + \".\\n\\nAnd the content is: \" + c\n",
    "    "
   ]
  },
  {
   "cell_type": "code",
   "execution_count": 13,
   "id": "da7cb593",
   "metadata": {},
   "outputs": [],
   "source": [
    "documents = [merge_content(it) for it in corpus]\n",
    "ids = [str(it) for it in range(len(corpus))]"
   ]
  },
  {
   "cell_type": "code",
   "execution_count": 14,
   "id": "4b385675",
   "metadata": {},
   "outputs": [],
   "source": [
    "collection.add(\n",
    "    documents=documents,\n",
    "    ids=ids\n",
    ")\n"
   ]
  },
  {
   "cell_type": "code",
   "execution_count": 15,
   "id": "5ad8ca68",
   "metadata": {},
   "outputs": [],
   "source": [
    "# collection.create_index()"
   ]
  },
  {
   "cell_type": "code",
   "execution_count": 16,
   "id": "1a1521cc",
   "metadata": {},
   "outputs": [],
   "source": [
    "# chroma_client.persist()"
   ]
  },
  {
   "cell_type": "code",
   "execution_count": 17,
   "id": "21ea3b4a",
   "metadata": {},
   "outputs": [
    {
     "data": {
      "text/plain": [
       "4970"
      ]
     },
     "execution_count": 17,
     "metadata": {},
     "output_type": "execute_result"
    }
   ],
   "source": [
    "collection.count()"
   ]
  },
  {
   "cell_type": "code",
   "execution_count": 18,
   "id": "cd16713d",
   "metadata": {},
   "outputs": [],
   "source": [
    "results = collection.query(\n",
    "    query_texts=[\"When is data really deleted in Clickhouse with the new `DELETE` query\"],\n",
    "    n_results=10\n",
    ")"
   ]
  },
  {
   "cell_type": "code",
   "execution_count": 19,
   "id": "2fa0de6e",
   "metadata": {},
   "outputs": [
    {
     "data": {
      "text/plain": [
       "{'ids': [['1579',\n",
       "   '1725',\n",
       "   '4216',\n",
       "   '1727',\n",
       "   '4181',\n",
       "   '4221',\n",
       "   '2655',\n",
       "   '1563',\n",
       "   '1722',\n",
       "   '4180']],\n",
       " 'embeddings': None,\n",
       " 'documents': [['This document path is: docs/react/learn/synchronizing-with-effects.md / How to handle the Effect firing twice in development? {/how-to-handle-the-effect-firing-twice-in-development/} / Fetching data {/fetching-data/}.\\n\\nAnd the content is: You can\\'t \"undo\" a network request that already happened, but your cleanup function should ensure that the fetch that\\'s *not relevant anymore* does not keep affecting your application. If the `userId` changes from `\\'Alice\\'` to `\\'Bob\\'`, cleanup ensures that the `\\'Alice\\'` response is ignored even if it arrives after `\\'Bob\\'`.\\n',\n",
       "   'This document path is: docs/react/learn/you-might-not-need-an-effect.md / How to remove unnecessary Effects {/how-to-remove-unnecessary-effects/} / Fetching data {/fetching-data/}.\\n\\nAnd the content is: **To fix the race condition, you need to [add a cleanup function](/learn/synchronizing-with-effects#fetching-data) to ignore stale responses:**\\n```js {5,7,9,11-13}\\nfunction SearchResults({ query }) {\\n  const [results, setResults] = useState([]);\\n  const [page, setPage] = useState(1);\\n  useEffect(() => {\\n    let ignore = false;\\n    fetchResults(query, page).then(json => {\\n      if (!ignore) {\\n        setResults(json);\\n      }\\n    });\\n    return () => {\\n      ignore = true;\\n    };\\n  }, [query, page]);\\n\\n  function handleNextPageClick() {\\n    setPage(page + 1);\\n  }\\n  // ...\\n}\\n```\\n',\n",
       "   'This document path is: docs/react/reference/react/useDeferredValue.md / Usage {/usage/} / Indicating that the content is stale {/indicating-that-the-content-is-stale/}.\\n\\nAnd the content is: In the example above, there is no indication that the result list for the latest query is still loading. This can be confusing to the user if the new results take a while to load. To make it more obvious to the user that the result list does not match the latest query, you can add a visual indication when the stale result list is displayed:\\n',\n",
       "   'This document path is: docs/react/learn/you-might-not-need-an-effect.md / How to remove unnecessary Effects {/how-to-remove-unnecessary-effects/} / Fetching data {/fetching-data/}.\\n\\nAnd the content is: **These issues apply to any UI library, not just React. Solving them is not trivial, which is why modern [frameworks](/learn/start-a-new-react-project#production-grade-react-frameworks) provide more efficient built-in data fetching mechanisms than fetching data in Effects.**\\n',\n",
       "   'This document path is: docs/react/reference/react/StrictMode.md / Usage {/usage/} / Fixing bugs found by re-running Effects in development {/fixing-bugs-found-by-re-running-effects-in-development/}.\\n\\nAnd the content is: ```js {4}\\n  useEffect(() => {\\n    const connection = createConnection(serverUrl, roomId);\\n    connection.connect();\\n    return () => connection.disconnect();\\n  }, [roomId]);\\n```\\nNow that your Effect \"cleans up\" after itself and destroys the outdated connections, the leak is solved. However, notice that the problem did not become visible until you\\'ve added more features (the select box).\\n',\n",
       "   \"This document path is: docs/react/reference/react/useDeferredValue.md / Usage {/usage/} / Indicating that the content is stale {/indicating-that-the-content-is-stale/}.\\n\\nAnd the content is: ```js data.js hidden\\n// Note: the way you would do data fetching depends on\\n// the framework that you use together with Suspense.\\n// Normally, the caching logic would be inside a framework.\\n\\nlet cache = new Map();\\n\\nexport function fetchData(url) {\\n  if (!cache.has(url)) {\\n    cache.set(url, getData(url));\\n  }\\n  return cache.get(url);\\n}\\n\\nasync function getData(url) {\\n  if (url.startsWith('/search?q=')) {\\n    return await getSearchResults(url.slice('/search?q='.length));\\n  } else {\\n    throw Error('Not implemented');\\n  }\\n}\\n\\nasync function getSearchResults(query) {\\n  // Add a fake delay to make waiting noticeable.\\n  await new Promise(resolve => {\\n    setTimeout(resolve, 500);\\n  });\\n\\n  const allAlbums = [{\\n    id: 13,\\n    title: 'Let It Be',\\n    year: 1970\\n  }, {\\n    id: 12,\\n    title: 'Abbey Road',\\n    year: 1969\\n  }, {\\n    id: 11,\\n    title: 'Yellow Submarine',\\n    year: 1969\\n  }, {\\n    id: 10,\\n    title: 'The Beatles',\\n    year: 1968\\n  }, {\\n    id: 9,\\n    title: 'Magical Mystery Tour',\\n    year: 1967\\n  }, {\\n    id: 8,\\n    title: 'Sgt. Pepper\\\\'s Lonely Hearts Club Band',\\n    year: 1967\\n  }, {\\n    id: 7,\\n    title: 'Revolver',\\n    year: 1966\\n  }, {\\n    id: 6,\\n    title: 'Rubber Soul',\\n    year: 1965\\n  }, {\\n    id: 5,\\n    title: 'Help!',\\n    year: 1965\\n  }, {\\n    id: 4,\\n    title: 'Beatles For Sale',\\n    year: 1964\\n  }, {\\n    id: 3,\\n    title: 'A Hard Day\\\\'s Night',\\n    year: 1964\\n  }, {\\n    id: 2,\\n    title: 'With The Beatles',\\n    year: 1963\\n  }, {\\n    id: 1,\\n    title: 'Please Please Me',\\n    year: 1963\\n  }];\\n\\n  const lowerQuery = query.trim().toLowerCase();\\n  return allAlbums.filter(album => {\\n    const lowerTitle = album.title.toLowerCase();\\n    return (\\n      lowerTitle.startsWith(lowerQuery) ||\\n      lowerTitle.indexOf(' ' + lowerQuery) !== -1\\n    )\\n  });\\n}\\n```\\n\",\n",
       "   \"This document path is: docs/react/blog/2022/03/29/react-v18.md / Changelog {/changelog/} / React {/react/}.\\n\\nAnd the content is: *   Add `useTransition` and `useDeferredValue` to separate urgent updates from transitions. ([#10426](https://github.com/facebook/react/pull/10426), [#10715](https://github.com/facebook/react/pull/10715), [#15593](https://github.com/facebook/react/pull/15593), [#15272](https://github.com/facebook/react/pull/15272), [#15578](https://github.com/facebook/react/pull/15578), [#15769](https://github.com/facebook/react/pull/15769), [#17058](https://github.com/facebook/react/pull/17058), [#18796](https://github.com/facebook/react/pull/18796), [#19121](https://github.com/facebook/react/pull/19121), [#19703](https://github.com/facebook/react/pull/19703), [#19719](https://github.com/facebook/react/pull/19719), [#19724](https://github.com/facebook/react/pull/19724), [#20672](https://github.com/facebook/react/pull/20672), [#20976](https://github.com/facebook/react/pull/20976) by [@acdlite](https://github.com/acdlite), [@lunaruan](https://github.com/lunaruan), [@rickhanlonii](https://github.com/rickhanlonii), and [@sebmarkbage](https://github.com/sebmarkbage))\\n*   Add `useId` for generating unique IDs. ([#17322](https://github.com/facebook/react/pull/17322), [#18576](https://github.com/facebook/react/pull/18576), [#22644](https://github.com/facebook/react/pull/22644), [#22672](https://github.com/facebook/react/pull/22672), [#21260](https://github.com/facebook/react/pull/21260) by [@acdlite](https://github.com/acdlite), [@lunaruan](https://github.com/lunaruan), and [@sebmarkbage](https://github.com/sebmarkbage))\\n*   Add `useSyncExternalStore` to help external store libraries integrate with React. ([#15022](https://github.com/facebook/react/pull/15022), [#18000](https://github.com/facebook/react/pull/18000), [#18771](https://github.com/facebook/react/pull/18771), [#22211](https://github.com/facebook/react/pull/22211), [#22292](https://github.com/facebook/react/pull/22292), [#22239](https://github.com/facebook/react/pull/22239), [#22347](https://github.com/facebook/react/pull/22347), [#23150](https://github.com/facebook/react/pull/23150) by [@acdlite](https://github.com/acdlite), [@bvaughn](https://github.com/bvaughn), and [@drarmstr](https://github.com/drarmstr))\\n*   Add `startTransition` as a version of `useTransition` without pending feedback. ([#19696](https://github.com/facebook/react/pull/19696)  by [@rickhanlonii](https://github.com/rickhanlonii))\\n*   Add `useInsertionEffect` for CSS-in-JS libraries. ([#21913](https://github.com/facebook/react/pull/21913)  by [@rickhanlonii](https://github.com/rickhanlonii))\\n*   Make Suspense remount layout effects when content reappears.  ([#19322](https://github.com/facebook/react/pull/19322), [#19374](https://github.com/facebook/react/pull/19374), [#19523](https://github.com/facebook/react/pull/19523), [#20625](https://github.com/facebook/react/pull/20625), [#21079](https://github.com/facebook/react/pull/21079) by [@acdlite](https://github.com/acdlite), [@bvaughn](https://github.com/bvaughn), and [@lunaruan](https://github.com/lunaruan))\\n*   Make `<StrictMode>` re-run effects to check for restorable state. ([#19523](https://github.com/facebook/react/pull/19523) , [#21418](https://github.com/facebook/react/pull/21418)  by [@bvaughn](https://github.com/bvaughn) and [@lunaruan](https://github.com/lunaruan))\\n*   Assume Symbols are always available. ([#23348](https://github.com/facebook/react/pull/23348)  by [@sebmarkbage](https://github.com/sebmarkbage))\\n*   Remove `object-assign` polyfill. ([#23351](https://github.com/facebook/react/pull/23351)  by [@sebmarkbage](https://github.com/sebmarkbage))\\n*   Remove unsupported `unstable_changedBits` API.  ([#20953](https://github.com/facebook/react/pull/20953)  by [@acdlite](https://github.com/acdlite))\\n*   Allow components to render undefined. ([#21869](https://github.com/facebook/react/pull/21869)  by [@rickhanlonii](https://github.com/rickhanlonii))\\n*   Flush `useEffect` resulting from discrete events like clicks synchronously. ([#21150](https://github.com/facebook/react/pull/21150)  by [@acdlite](https://github.com/acdlite))\\n*   Suspense `fallback={undefined}` now behaves the same as `null` and isn't ignored. ([#21854](https://github.com/facebook/react/pull/21854)  by [@rickhanlonii](https://github.com/rickhanlonii))\\n*   Consider all `lazy()` resolving to the same component equivalent. ([#20357](https://github.com/facebook/react/pull/20357)  by [@sebmarkbage](https://github.com/sebmarkbage))\\n*   Don't patch console during first render. ([#22308](https://github.com/facebook/react/pull/22308)  by [@lunaruan](https://github.com/lunaruan))\\n*   Improve memory usage. ([#21039](https://github.com/facebook/react/pull/21039)  by [@bgirard](https://github.com/bgirard))\\n*   Improve messages if string coercion throws (Temporal.\\\\*, Symbol, etc.) ([#22064](https://github.com/facebook/react/pull/22064)  by [@justingrant](https://github.com/justingrant))\\n*   Use `setImmediate` when available over `MessageChannel`. ([#20834](https://github.com/facebook/react/pull/20834)  by [@gaearon](https://github.com/gaearon))\\n*   Fix context failing to propagate inside suspended trees. ([#23095](https://github.com/facebook/react/pull/23095)  by [@gaearon](https://github.com/gaearon))\\n*   Fix `useReducer` observing incorrect props by removing the eager bailout mechanism. ([#22445](https://github.com/facebook/react/pull/22445)  by [@josephsavona](https://github.com/josephsavona))\\n*   Fix `setState` being ignored in Safari when appending iframes. ([#23111](https://github.com/facebook/react/pull/23111)  by [@gaearon](https://github.com/gaearon))\\n*   Fix a crash when rendering `ZonedDateTime` in the tree. ([#20617](https://github.com/facebook/react/pull/20617)  by [@dimaqq](https://github.com/dimaqq))\\n*   Fix a crash when document is set to `null` in tests. ([#22695](https://github.com/facebook/react/pull/22695)  by [@SimenB](https://github.com/SimenB))\\n*   Fix `onLoad` not triggering when concurrent features are on. ([#23316](https://github.com/facebook/react/pull/23316)  by [@gnoff](https://github.com/gnoff))\\n*   Fix a warning when a selector returns `NaN`.  ([#23333](https://github.com/facebook/react/pull/23333)  by [@hachibeeDI](https://github.com/hachibeeDI))\\n*   Fix a crash when document is set to `null` in tests. ([#22695](https://github.com/facebook/react/pull/22695) by [@SimenB](https://github.com/SimenB))\\n*   Fix the generated license header. ([#23004](https://github.com/facebook/react/pull/23004)  by [@vitaliemiron](https://github.com/vitaliemiron))\\n*   Add `package.json` as one of the entry points. ([#22954](https://github.com/facebook/react/pull/22954)  by [@Jack](https://github.com/Jack-Works))\\n*   Allow suspending outside a Suspense boundary. ([#23267](https://github.com/facebook/react/pull/23267)  by [@acdlite](https://github.com/acdlite))\\n*   Log a recoverable error whenever hydration fails. ([#23319](https://github.com/facebook/react/pull/23319)  by [@acdlite](https://github.com/acdlite))\\n\",\n",
       "   \"This document path is: docs/react/learn/synchronizing-with-effects.md / How to write an Effect {/how-to-write-an-effect/} / Step 3: Add cleanup if needed {/step-3-add-cleanup-if-needed/}.\\n\\nAnd the content is: To fix the issue, return a *cleanup function* from your Effect:\\n```js {4-6}\\n  useEffect(() => {\\n    const connection = createConnection();\\n    connection.connect();\\n    return () => {\\n      connection.disconnect();\\n    };\\n  }, []);\\n```\\nReact will call your cleanup function each time before the Effect runs again, and one final time when the component unmounts (gets removed). Let's see what happens when the cleanup function is implemented:\\n\",\n",
       "   'This document path is: docs/react/learn/you-might-not-need-an-effect.md / How to remove unnecessary Effects {/how-to-remove-unnecessary-effects/} / Fetching data {/fetching-data/}.\\n\\nAnd the content is: Many apps use Effects to kick off data fetching. It is quite common to write a data fetching Effect like this:\\n```js {5-10}\\nfunction SearchResults({ query }) {\\n  const [results, setResults] = useState([]);\\n  const [page, setPage] = useState(1);\\n\\n  useEffect(() => {\\n    // 🔴 Avoid: Fetching without cleanup logic\\n    fetchResults(query, page).then(json => {\\n      setResults(json);\\n    });\\n  }, [query, page]);\\n\\n  function handleNextPageClick() {\\n    setPage(page + 1);\\n  }\\n  // ...\\n}\\n```\\n',\n",
       "   \"This document path is: docs/react/reference/react/StrictMode.md / Usage {/usage/} / Fixing bugs found by re-running Effects in development {/fixing-bugs-found-by-re-running-effects-in-development/}.\\n\\nAnd the content is: ```css\\ninput { display: block; margin-bottom: 20px; }\\nbutton { margin-left: 10px; }\\n```\\nYou'll notice that the number of open connections always keeps growing. In a real app, this would cause performance and network problems. The issue is that [your Effect is missing a cleanup function:](/learn/synchronizing-with-effects#step-3-add-cleanup-if-needed)\\n\"]],\n",
       " 'metadatas': [[None, None, None, None, None, None, None, None, None, None]],\n",
       " 'distances': [[0.3304305076599121,\n",
       "   0.33610448241233826,\n",
       "   0.3391956686973572,\n",
       "   0.3451853096485138,\n",
       "   0.34654247760772705,\n",
       "   0.3483077585697174,\n",
       "   0.348763108253479,\n",
       "   0.3494679927825928,\n",
       "   0.3496426045894623,\n",
       "   0.35063958168029785]]}"
      ]
     },
     "execution_count": 19,
     "metadata": {},
     "output_type": "execute_result"
    }
   ],
   "source": [
    "results"
   ]
  },
  {
   "cell_type": "code",
   "execution_count": 20,
   "id": "471fdd0a",
   "metadata": {
    "scrolled": false
   },
   "outputs": [
    {
     "name": "stdout",
     "output_type": "stream",
     "text": [
      "1579\n",
      "docs/react/learn/synchronizing-with-effects.md > How to handle the Effect firing twice in development? {/how-to-handle-the-effect-firing-twice-in-development/} > Fetching data {/fetching-data/}\n",
      "0.3304305076599121\n",
      "\n",
      "You can't \"undo\" a network request that already happened, but your cleanup function should ensure that the fetch that's *not relevant anymore* does not keep affecting your application. If the `userId` changes from `'Alice'` to `'Bob'`, cleanup ensures that the `'Alice'` response is ignored even if it arrives after `'Bob'`.\n",
      "\n",
      "\n",
      "\n",
      "\n",
      "1725\n",
      "docs/react/learn/you-might-not-need-an-effect.md > How to remove unnecessary Effects {/how-to-remove-unnecessary-effects/} > Fetching data {/fetching-data/}\n",
      "0.33610448241233826\n",
      "\n",
      "**To fix the race condition, you need to [add a cleanup function](/learn/synchronizing-with-effects#fetching-data) to ignore stale responses:**\n",
      "```js {5,7,9,11-13}\n",
      "function SearchResults({ query }) {\n",
      "  const [results, setResults] = useState([]);\n",
      "  const [page, setPage] = useState(1);\n",
      "  useEffect(() => {\n",
      "    let ignore = false;\n",
      "    fetchResults(query, page).then(json => {\n",
      "      if (!ignore) {\n",
      "        setResults(json);\n",
      "      }\n",
      "    });\n",
      "    return () => {\n",
      "      ignore = true;\n",
      "    };\n",
      "  }, [query, page]);\n",
      "\n",
      "  function handleNextPageClick() {\n",
      "    setPage(page + 1);\n",
      "  }\n",
      "  // ...\n",
      "}\n",
      "```\n",
      "\n",
      "\n",
      "\n",
      "\n",
      "4216\n",
      "docs/react/reference/react/useDeferredValue.md > Usage {/usage/} > Indicating that the content is stale {/indicating-that-the-content-is-stale/}\n",
      "0.3391956686973572\n",
      "\n",
      "In the example above, there is no indication that the result list for the latest query is still loading. This can be confusing to the user if the new results take a while to load. To make it more obvious to the user that the result list does not match the latest query, you can add a visual indication when the stale result list is displayed:\n",
      "\n",
      "\n",
      "\n",
      "\n",
      "1727\n",
      "docs/react/learn/you-might-not-need-an-effect.md > How to remove unnecessary Effects {/how-to-remove-unnecessary-effects/} > Fetching data {/fetching-data/}\n",
      "0.3451853096485138\n",
      "\n",
      "**These issues apply to any UI library, not just React. Solving them is not trivial, which is why modern [frameworks](/learn/start-a-new-react-project#production-grade-react-frameworks) provide more efficient built-in data fetching mechanisms than fetching data in Effects.**\n",
      "\n",
      "\n",
      "\n",
      "\n",
      "4181\n",
      "docs/react/reference/react/StrictMode.md > Usage {/usage/} > Fixing bugs found by re-running Effects in development {/fixing-bugs-found-by-re-running-effects-in-development/}\n",
      "0.34654247760772705\n",
      "\n",
      "```js {4}\n",
      "  useEffect(() => {\n",
      "    const connection = createConnection(serverUrl, roomId);\n",
      "    connection.connect();\n",
      "    return () => connection.disconnect();\n",
      "  }, [roomId]);\n",
      "```\n",
      "Now that your Effect \"cleans up\" after itself and destroys the outdated connections, the leak is solved. However, notice that the problem did not become visible until you've added more features (the select box).\n",
      "\n",
      "\n",
      "\n",
      "\n",
      "4221\n",
      "docs/react/reference/react/useDeferredValue.md > Usage {/usage/} > Indicating that the content is stale {/indicating-that-the-content-is-stale/}\n",
      "0.3483077585697174\n",
      "\n",
      "```js data.js hidden\n",
      "// Note: the way you would do data fetching depends on\n",
      "// the framework that you use together with Suspense.\n",
      "// Normally, the caching logic would be inside a framework.\n",
      "\n",
      "let cache = new Map();\n",
      "\n",
      "export function fetchData(url) {\n",
      "  if (!cache.has(url)) {\n",
      "    cache.set(url, getData(url));\n",
      "  }\n",
      "  return cache.get(url);\n",
      "}\n",
      "\n",
      "async function getData(url) {\n",
      "  if (url.startsWith('/search?q=')) {\n",
      "    return await getSearchResults(url.slice('/search?q='.length));\n",
      "  } else {\n",
      "    throw Error('Not implemented');\n",
      "  }\n",
      "}\n",
      "\n",
      "async function getSearchResults(query) {\n",
      "  // Add a fake delay to make waiting noticeable.\n",
      "  await new Promise(resolve => {\n",
      "    setTimeout(resolve, 500);\n",
      "  });\n",
      "\n",
      "  const allAlbums = [{\n",
      "    id: 13,\n",
      "    title: 'Let It Be',\n",
      "    year: 1970\n",
      "  }, {\n",
      "    id: 12,\n",
      "    title: 'Abbey Road',\n",
      "    year: 1969\n",
      "  }, {\n",
      "    id: 11,\n",
      "    title: 'Yellow Submarine',\n",
      "    year: 1969\n",
      "  }, {\n",
      "    id: 10,\n",
      "    title: 'The Beatles',\n",
      "    year: 1968\n",
      "  }, {\n",
      "    id: 9,\n",
      "    title: 'Magical Mystery Tour',\n",
      "    year: 1967\n",
      "  }, {\n",
      "    id: 8,\n",
      "    title: 'Sgt. Pepper\\'s Lonely Hearts Club Band',\n",
      "    year: 1967\n",
      "  }, {\n",
      "    id: 7,\n",
      "    title: 'Revolver',\n",
      "    year: 1966\n",
      "  }, {\n",
      "    id: 6,\n",
      "    title: 'Rubber Soul',\n",
      "    year: 1965\n",
      "  }, {\n",
      "    id: 5,\n",
      "    title: 'Help!',\n",
      "    year: 1965\n",
      "  }, {\n",
      "    id: 4,\n",
      "    title: 'Beatles For Sale',\n",
      "    year: 1964\n",
      "  }, {\n",
      "    id: 3,\n",
      "    title: 'A Hard Day\\'s Night',\n",
      "    year: 1964\n",
      "  }, {\n",
      "    id: 2,\n",
      "    title: 'With The Beatles',\n",
      "    year: 1963\n",
      "  }, {\n",
      "    id: 1,\n",
      "    title: 'Please Please Me',\n",
      "    year: 1963\n",
      "  }];\n",
      "\n",
      "  const lowerQuery = query.trim().toLowerCase();\n",
      "  return allAlbums.filter(album => {\n",
      "    const lowerTitle = album.title.toLowerCase();\n",
      "    return (\n",
      "      lowerTitle.startsWith(lowerQuery) ||\n",
      "      lowerTitle.indexOf(' ' + lowerQuery) !== -1\n",
      "    )\n",
      "  });\n",
      "}\n",
      "```\n",
      "\n",
      "\n",
      "\n",
      "\n",
      "2655\n",
      "docs/react/blog/2022/03/29/react-v18.md > Changelog {/changelog/} > React {/react/}\n",
      "0.348763108253479\n",
      "\n",
      "*   Add `useTransition` and `useDeferredValue` to separate urgent updates from transitions. ([#10426](https://github.com/facebook/react/pull/10426), [#10715](https://github.com/facebook/react/pull/10715), [#15593](https://github.com/facebook/react/pull/15593), [#15272](https://github.com/facebook/react/pull/15272), [#15578](https://github.com/facebook/react/pull/15578), [#15769](https://github.com/facebook/react/pull/15769), [#17058](https://github.com/facebook/react/pull/17058), [#18796](https://github.com/facebook/react/pull/18796), [#19121](https://github.com/facebook/react/pull/19121), [#19703](https://github.com/facebook/react/pull/19703), [#19719](https://github.com/facebook/react/pull/19719), [#19724](https://github.com/facebook/react/pull/19724), [#20672](https://github.com/facebook/react/pull/20672), [#20976](https://github.com/facebook/react/pull/20976) by [@acdlite](https://github.com/acdlite), [@lunaruan](https://github.com/lunaruan), [@rickhanlonii](https://github.com/rickhanlonii), and [@sebmarkbage](https://github.com/sebmarkbage))\n",
      "*   Add `useId` for generating unique IDs. ([#17322](https://github.com/facebook/react/pull/17322), [#18576](https://github.com/facebook/react/pull/18576), [#22644](https://github.com/facebook/react/pull/22644), [#22672](https://github.com/facebook/react/pull/22672), [#21260](https://github.com/facebook/react/pull/21260) by [@acdlite](https://github.com/acdlite), [@lunaruan](https://github.com/lunaruan), and [@sebmarkbage](https://github.com/sebmarkbage))\n",
      "*   Add `useSyncExternalStore` to help external store libraries integrate with React. ([#15022](https://github.com/facebook/react/pull/15022), [#18000](https://github.com/facebook/react/pull/18000), [#18771](https://github.com/facebook/react/pull/18771), [#22211](https://github.com/facebook/react/pull/22211), [#22292](https://github.com/facebook/react/pull/22292), [#22239](https://github.com/facebook/react/pull/22239), [#22347](https://github.com/facebook/react/pull/22347), [#23150](https://github.com/facebook/react/pull/23150) by [@acdlite](https://github.com/acdlite), [@bvaughn](https://github.com/bvaughn), and [@drarmstr](https://github.com/drarmstr))\n",
      "*   Add `startTransition` as a version of `useTransition` without pending feedback. ([#19696](https://github.com/facebook/react/pull/19696)  by [@rickhanlonii](https://github.com/rickhanlonii))\n",
      "*   Add `useInsertionEffect` for CSS-in-JS libraries. ([#21913](https://github.com/facebook/react/pull/21913)  by [@rickhanlonii](https://github.com/rickhanlonii))\n",
      "*   Make Suspense remount layout effects when content reappears.  ([#19322](https://github.com/facebook/react/pull/19322), [#19374](https://github.com/facebook/react/pull/19374), [#19523](https://github.com/facebook/react/pull/19523), [#20625](https://github.com/facebook/react/pull/20625), [#21079](https://github.com/facebook/react/pull/21079) by [@acdlite](https://github.com/acdlite), [@bvaughn](https://github.com/bvaughn), and [@lunaruan](https://github.com/lunaruan))\n",
      "*   Make `<StrictMode>` re-run effects to check for restorable state. ([#19523](https://github.com/facebook/react/pull/19523) , [#21418](https://github.com/facebook/react/pull/21418)  by [@bvaughn](https://github.com/bvaughn) and [@lunaruan](https://github.com/lunaruan))\n",
      "*   Assume Symbols are always available. ([#23348](https://github.com/facebook/react/pull/23348)  by [@sebmarkbage](https://github.com/sebmarkbage))\n",
      "*   Remove `object-assign` polyfill. ([#23351](https://github.com/facebook/react/pull/23351)  by [@sebmarkbage](https://github.com/sebmarkbage))\n",
      "*   Remove unsupported `unstable_changedBits` API.  ([#20953](https://github.com/facebook/react/pull/20953)  by [@acdlite](https://github.com/acdlite))\n",
      "*   Allow components to render undefined. ([#21869](https://github.com/facebook/react/pull/21869)  by [@rickhanlonii](https://github.com/rickhanlonii))\n",
      "*   Flush `useEffect` resulting from discrete events like clicks synchronously. ([#21150](https://github.com/facebook/react/pull/21150)  by [@acdlite](https://github.com/acdlite))\n",
      "*   Suspense `fallback={undefined}` now behaves the same as `null` and isn't ignored. ([#21854](https://github.com/facebook/react/pull/21854)  by [@rickhanlonii](https://github.com/rickhanlonii))\n",
      "*   Consider all `lazy()` resolving to the same component equivalent. ([#20357](https://github.com/facebook/react/pull/20357)  by [@sebmarkbage](https://github.com/sebmarkbage))\n",
      "*   Don't patch console during first render. ([#22308](https://github.com/facebook/react/pull/22308)  by [@lunaruan](https://github.com/lunaruan))\n",
      "*   Improve memory usage. ([#21039](https://github.com/facebook/react/pull/21039)  by [@bgirard](https://github.com/bgirard))\n",
      "*   Improve messages if string coercion throws (Temporal.\\*, Symbol, etc.) ([#22064](https://github.com/facebook/react/pull/22064)  by [@justingrant](https://github.com/justingrant))\n",
      "*   Use `setImmediate` when available over `MessageChannel`. ([#20834](https://github.com/facebook/react/pull/20834)  by [@gaearon](https://github.com/gaearon))\n",
      "*   Fix context failing to propagate inside suspended trees. ([#23095](https://github.com/facebook/react/pull/23095)  by [@gaearon](https://github.com/gaearon))\n",
      "*   Fix `useReducer` observing incorrect props by removing the eager bailout mechanism. ([#22445](https://github.com/facebook/react/pull/22445)  by [@josephsavona](https://github.com/josephsavona))\n",
      "*   Fix `setState` being ignored in Safari when appending iframes. ([#23111](https://github.com/facebook/react/pull/23111)  by [@gaearon](https://github.com/gaearon))\n",
      "*   Fix a crash when rendering `ZonedDateTime` in the tree. ([#20617](https://github.com/facebook/react/pull/20617)  by [@dimaqq](https://github.com/dimaqq))\n",
      "*   Fix a crash when document is set to `null` in tests. ([#22695](https://github.com/facebook/react/pull/22695)  by [@SimenB](https://github.com/SimenB))\n",
      "*   Fix `onLoad` not triggering when concurrent features are on. ([#23316](https://github.com/facebook/react/pull/23316)  by [@gnoff](https://github.com/gnoff))\n",
      "*   Fix a warning when a selector returns `NaN`.  ([#23333](https://github.com/facebook/react/pull/23333)  by [@hachibeeDI](https://github.com/hachibeeDI))\n",
      "*   Fix a crash when document is set to `null` in tests. ([#22695](https://github.com/facebook/react/pull/22695) by [@SimenB](https://github.com/SimenB))\n",
      "*   Fix the generated license header. ([#23004](https://github.com/facebook/react/pull/23004)  by [@vitaliemiron](https://github.com/vitaliemiron))\n",
      "*   Add `package.json` as one of the entry points. ([#22954](https://github.com/facebook/react/pull/22954)  by [@Jack](https://github.com/Jack-Works))\n",
      "*   Allow suspending outside a Suspense boundary. ([#23267](https://github.com/facebook/react/pull/23267)  by [@acdlite](https://github.com/acdlite))\n",
      "*   Log a recoverable error whenever hydration fails. ([#23319](https://github.com/facebook/react/pull/23319)  by [@acdlite](https://github.com/acdlite))\n",
      "\n",
      "\n",
      "\n",
      "\n",
      "1563\n",
      "docs/react/learn/synchronizing-with-effects.md > How to write an Effect {/how-to-write-an-effect/} > Step 3: Add cleanup if needed {/step-3-add-cleanup-if-needed/}\n",
      "0.3494679927825928\n",
      "\n",
      "To fix the issue, return a *cleanup function* from your Effect:\n",
      "```js {4-6}\n",
      "  useEffect(() => {\n",
      "    const connection = createConnection();\n",
      "    connection.connect();\n",
      "    return () => {\n",
      "      connection.disconnect();\n",
      "    };\n",
      "  }, []);\n",
      "```\n",
      "React will call your cleanup function each time before the Effect runs again, and one final time when the component unmounts (gets removed). Let's see what happens when the cleanup function is implemented:\n",
      "\n",
      "\n",
      "\n",
      "\n",
      "1722\n",
      "docs/react/learn/you-might-not-need-an-effect.md > How to remove unnecessary Effects {/how-to-remove-unnecessary-effects/} > Fetching data {/fetching-data/}\n",
      "0.3496426045894623\n",
      "\n",
      "Many apps use Effects to kick off data fetching. It is quite common to write a data fetching Effect like this:\n",
      "```js {5-10}\n",
      "function SearchResults({ query }) {\n",
      "  const [results, setResults] = useState([]);\n",
      "  const [page, setPage] = useState(1);\n",
      "\n",
      "  useEffect(() => {\n",
      "    // 🔴 Avoid: Fetching without cleanup logic\n",
      "    fetchResults(query, page).then(json => {\n",
      "      setResults(json);\n",
      "    });\n",
      "  }, [query, page]);\n",
      "\n",
      "  function handleNextPageClick() {\n",
      "    setPage(page + 1);\n",
      "  }\n",
      "  // ...\n",
      "}\n",
      "```\n",
      "\n",
      "\n",
      "\n",
      "\n",
      "4180\n",
      "docs/react/reference/react/StrictMode.md > Usage {/usage/} > Fixing bugs found by re-running Effects in development {/fixing-bugs-found-by-re-running-effects-in-development/}\n",
      "0.35063958168029785\n",
      "\n",
      "```css\n",
      "input { display: block; margin-bottom: 20px; }\n",
      "button { margin-left: 10px; }\n",
      "```\n",
      "You'll notice that the number of open connections always keeps growing. In a real app, this would cause performance and network problems. The issue is that [your Effect is missing a cleanup function:](/learn/synchronizing-with-effects#step-3-add-cleanup-if-needed)\n",
      "\n",
      "\n",
      "\n",
      "\n"
     ]
    }
   ],
   "source": [
    "for a,b in zip(results['ids'][0], results['distances'][0]):\n",
    "    idx = int(a)\n",
    "    print(idx)\n",
    "    print(\" > \".join(corpus[idx][\"headings\"]))\n",
    "    print(b)\n",
    "    print()\n",
    "    print(corpus[idx][\"content\"])\n",
    "    print()\n",
    "    print()\n",
    "    print()"
   ]
  },
  {
   "cell_type": "code",
   "execution_count": null,
   "id": "bc496d6c",
   "metadata": {},
   "outputs": [],
   "source": []
  },
  {
   "cell_type": "code",
   "execution_count": 21,
   "id": "f70bab12",
   "metadata": {},
   "outputs": [],
   "source": [
    "results = collection.query(\n",
    "    query_texts=[\"When is data really deleted in Clickhouse with the new `DELETE` query\"],\n",
    "    n_results=10\n",
    ")"
   ]
  },
  {
   "cell_type": "code",
   "execution_count": 22,
   "id": "570d84eb",
   "metadata": {},
   "outputs": [
    {
     "data": {
      "text/plain": [
       "{'ids': [['1579',\n",
       "   '1725',\n",
       "   '4216',\n",
       "   '1727',\n",
       "   '4181',\n",
       "   '4221',\n",
       "   '2655',\n",
       "   '1563',\n",
       "   '1722',\n",
       "   '4180']],\n",
       " 'embeddings': None,\n",
       " 'documents': [['This document path is: docs/react/learn/synchronizing-with-effects.md / How to handle the Effect firing twice in development? {/how-to-handle-the-effect-firing-twice-in-development/} / Fetching data {/fetching-data/}.\\n\\nAnd the content is: You can\\'t \"undo\" a network request that already happened, but your cleanup function should ensure that the fetch that\\'s *not relevant anymore* does not keep affecting your application. If the `userId` changes from `\\'Alice\\'` to `\\'Bob\\'`, cleanup ensures that the `\\'Alice\\'` response is ignored even if it arrives after `\\'Bob\\'`.\\n',\n",
       "   'This document path is: docs/react/learn/you-might-not-need-an-effect.md / How to remove unnecessary Effects {/how-to-remove-unnecessary-effects/} / Fetching data {/fetching-data/}.\\n\\nAnd the content is: **To fix the race condition, you need to [add a cleanup function](/learn/synchronizing-with-effects#fetching-data) to ignore stale responses:**\\n```js {5,7,9,11-13}\\nfunction SearchResults({ query }) {\\n  const [results, setResults] = useState([]);\\n  const [page, setPage] = useState(1);\\n  useEffect(() => {\\n    let ignore = false;\\n    fetchResults(query, page).then(json => {\\n      if (!ignore) {\\n        setResults(json);\\n      }\\n    });\\n    return () => {\\n      ignore = true;\\n    };\\n  }, [query, page]);\\n\\n  function handleNextPageClick() {\\n    setPage(page + 1);\\n  }\\n  // ...\\n}\\n```\\n',\n",
       "   'This document path is: docs/react/reference/react/useDeferredValue.md / Usage {/usage/} / Indicating that the content is stale {/indicating-that-the-content-is-stale/}.\\n\\nAnd the content is: In the example above, there is no indication that the result list for the latest query is still loading. This can be confusing to the user if the new results take a while to load. To make it more obvious to the user that the result list does not match the latest query, you can add a visual indication when the stale result list is displayed:\\n',\n",
       "   'This document path is: docs/react/learn/you-might-not-need-an-effect.md / How to remove unnecessary Effects {/how-to-remove-unnecessary-effects/} / Fetching data {/fetching-data/}.\\n\\nAnd the content is: **These issues apply to any UI library, not just React. Solving them is not trivial, which is why modern [frameworks](/learn/start-a-new-react-project#production-grade-react-frameworks) provide more efficient built-in data fetching mechanisms than fetching data in Effects.**\\n',\n",
       "   'This document path is: docs/react/reference/react/StrictMode.md / Usage {/usage/} / Fixing bugs found by re-running Effects in development {/fixing-bugs-found-by-re-running-effects-in-development/}.\\n\\nAnd the content is: ```js {4}\\n  useEffect(() => {\\n    const connection = createConnection(serverUrl, roomId);\\n    connection.connect();\\n    return () => connection.disconnect();\\n  }, [roomId]);\\n```\\nNow that your Effect \"cleans up\" after itself and destroys the outdated connections, the leak is solved. However, notice that the problem did not become visible until you\\'ve added more features (the select box).\\n',\n",
       "   \"This document path is: docs/react/reference/react/useDeferredValue.md / Usage {/usage/} / Indicating that the content is stale {/indicating-that-the-content-is-stale/}.\\n\\nAnd the content is: ```js data.js hidden\\n// Note: the way you would do data fetching depends on\\n// the framework that you use together with Suspense.\\n// Normally, the caching logic would be inside a framework.\\n\\nlet cache = new Map();\\n\\nexport function fetchData(url) {\\n  if (!cache.has(url)) {\\n    cache.set(url, getData(url));\\n  }\\n  return cache.get(url);\\n}\\n\\nasync function getData(url) {\\n  if (url.startsWith('/search?q=')) {\\n    return await getSearchResults(url.slice('/search?q='.length));\\n  } else {\\n    throw Error('Not implemented');\\n  }\\n}\\n\\nasync function getSearchResults(query) {\\n  // Add a fake delay to make waiting noticeable.\\n  await new Promise(resolve => {\\n    setTimeout(resolve, 500);\\n  });\\n\\n  const allAlbums = [{\\n    id: 13,\\n    title: 'Let It Be',\\n    year: 1970\\n  }, {\\n    id: 12,\\n    title: 'Abbey Road',\\n    year: 1969\\n  }, {\\n    id: 11,\\n    title: 'Yellow Submarine',\\n    year: 1969\\n  }, {\\n    id: 10,\\n    title: 'The Beatles',\\n    year: 1968\\n  }, {\\n    id: 9,\\n    title: 'Magical Mystery Tour',\\n    year: 1967\\n  }, {\\n    id: 8,\\n    title: 'Sgt. Pepper\\\\'s Lonely Hearts Club Band',\\n    year: 1967\\n  }, {\\n    id: 7,\\n    title: 'Revolver',\\n    year: 1966\\n  }, {\\n    id: 6,\\n    title: 'Rubber Soul',\\n    year: 1965\\n  }, {\\n    id: 5,\\n    title: 'Help!',\\n    year: 1965\\n  }, {\\n    id: 4,\\n    title: 'Beatles For Sale',\\n    year: 1964\\n  }, {\\n    id: 3,\\n    title: 'A Hard Day\\\\'s Night',\\n    year: 1964\\n  }, {\\n    id: 2,\\n    title: 'With The Beatles',\\n    year: 1963\\n  }, {\\n    id: 1,\\n    title: 'Please Please Me',\\n    year: 1963\\n  }];\\n\\n  const lowerQuery = query.trim().toLowerCase();\\n  return allAlbums.filter(album => {\\n    const lowerTitle = album.title.toLowerCase();\\n    return (\\n      lowerTitle.startsWith(lowerQuery) ||\\n      lowerTitle.indexOf(' ' + lowerQuery) !== -1\\n    )\\n  });\\n}\\n```\\n\",\n",
       "   \"This document path is: docs/react/blog/2022/03/29/react-v18.md / Changelog {/changelog/} / React {/react/}.\\n\\nAnd the content is: *   Add `useTransition` and `useDeferredValue` to separate urgent updates from transitions. ([#10426](https://github.com/facebook/react/pull/10426), [#10715](https://github.com/facebook/react/pull/10715), [#15593](https://github.com/facebook/react/pull/15593), [#15272](https://github.com/facebook/react/pull/15272), [#15578](https://github.com/facebook/react/pull/15578), [#15769](https://github.com/facebook/react/pull/15769), [#17058](https://github.com/facebook/react/pull/17058), [#18796](https://github.com/facebook/react/pull/18796), [#19121](https://github.com/facebook/react/pull/19121), [#19703](https://github.com/facebook/react/pull/19703), [#19719](https://github.com/facebook/react/pull/19719), [#19724](https://github.com/facebook/react/pull/19724), [#20672](https://github.com/facebook/react/pull/20672), [#20976](https://github.com/facebook/react/pull/20976) by [@acdlite](https://github.com/acdlite), [@lunaruan](https://github.com/lunaruan), [@rickhanlonii](https://github.com/rickhanlonii), and [@sebmarkbage](https://github.com/sebmarkbage))\\n*   Add `useId` for generating unique IDs. ([#17322](https://github.com/facebook/react/pull/17322), [#18576](https://github.com/facebook/react/pull/18576), [#22644](https://github.com/facebook/react/pull/22644), [#22672](https://github.com/facebook/react/pull/22672), [#21260](https://github.com/facebook/react/pull/21260) by [@acdlite](https://github.com/acdlite), [@lunaruan](https://github.com/lunaruan), and [@sebmarkbage](https://github.com/sebmarkbage))\\n*   Add `useSyncExternalStore` to help external store libraries integrate with React. ([#15022](https://github.com/facebook/react/pull/15022), [#18000](https://github.com/facebook/react/pull/18000), [#18771](https://github.com/facebook/react/pull/18771), [#22211](https://github.com/facebook/react/pull/22211), [#22292](https://github.com/facebook/react/pull/22292), [#22239](https://github.com/facebook/react/pull/22239), [#22347](https://github.com/facebook/react/pull/22347), [#23150](https://github.com/facebook/react/pull/23150) by [@acdlite](https://github.com/acdlite), [@bvaughn](https://github.com/bvaughn), and [@drarmstr](https://github.com/drarmstr))\\n*   Add `startTransition` as a version of `useTransition` without pending feedback. ([#19696](https://github.com/facebook/react/pull/19696)  by [@rickhanlonii](https://github.com/rickhanlonii))\\n*   Add `useInsertionEffect` for CSS-in-JS libraries. ([#21913](https://github.com/facebook/react/pull/21913)  by [@rickhanlonii](https://github.com/rickhanlonii))\\n*   Make Suspense remount layout effects when content reappears.  ([#19322](https://github.com/facebook/react/pull/19322), [#19374](https://github.com/facebook/react/pull/19374), [#19523](https://github.com/facebook/react/pull/19523), [#20625](https://github.com/facebook/react/pull/20625), [#21079](https://github.com/facebook/react/pull/21079) by [@acdlite](https://github.com/acdlite), [@bvaughn](https://github.com/bvaughn), and [@lunaruan](https://github.com/lunaruan))\\n*   Make `<StrictMode>` re-run effects to check for restorable state. ([#19523](https://github.com/facebook/react/pull/19523) , [#21418](https://github.com/facebook/react/pull/21418)  by [@bvaughn](https://github.com/bvaughn) and [@lunaruan](https://github.com/lunaruan))\\n*   Assume Symbols are always available. ([#23348](https://github.com/facebook/react/pull/23348)  by [@sebmarkbage](https://github.com/sebmarkbage))\\n*   Remove `object-assign` polyfill. ([#23351](https://github.com/facebook/react/pull/23351)  by [@sebmarkbage](https://github.com/sebmarkbage))\\n*   Remove unsupported `unstable_changedBits` API.  ([#20953](https://github.com/facebook/react/pull/20953)  by [@acdlite](https://github.com/acdlite))\\n*   Allow components to render undefined. ([#21869](https://github.com/facebook/react/pull/21869)  by [@rickhanlonii](https://github.com/rickhanlonii))\\n*   Flush `useEffect` resulting from discrete events like clicks synchronously. ([#21150](https://github.com/facebook/react/pull/21150)  by [@acdlite](https://github.com/acdlite))\\n*   Suspense `fallback={undefined}` now behaves the same as `null` and isn't ignored. ([#21854](https://github.com/facebook/react/pull/21854)  by [@rickhanlonii](https://github.com/rickhanlonii))\\n*   Consider all `lazy()` resolving to the same component equivalent. ([#20357](https://github.com/facebook/react/pull/20357)  by [@sebmarkbage](https://github.com/sebmarkbage))\\n*   Don't patch console during first render. ([#22308](https://github.com/facebook/react/pull/22308)  by [@lunaruan](https://github.com/lunaruan))\\n*   Improve memory usage. ([#21039](https://github.com/facebook/react/pull/21039)  by [@bgirard](https://github.com/bgirard))\\n*   Improve messages if string coercion throws (Temporal.\\\\*, Symbol, etc.) ([#22064](https://github.com/facebook/react/pull/22064)  by [@justingrant](https://github.com/justingrant))\\n*   Use `setImmediate` when available over `MessageChannel`. ([#20834](https://github.com/facebook/react/pull/20834)  by [@gaearon](https://github.com/gaearon))\\n*   Fix context failing to propagate inside suspended trees. ([#23095](https://github.com/facebook/react/pull/23095)  by [@gaearon](https://github.com/gaearon))\\n*   Fix `useReducer` observing incorrect props by removing the eager bailout mechanism. ([#22445](https://github.com/facebook/react/pull/22445)  by [@josephsavona](https://github.com/josephsavona))\\n*   Fix `setState` being ignored in Safari when appending iframes. ([#23111](https://github.com/facebook/react/pull/23111)  by [@gaearon](https://github.com/gaearon))\\n*   Fix a crash when rendering `ZonedDateTime` in the tree. ([#20617](https://github.com/facebook/react/pull/20617)  by [@dimaqq](https://github.com/dimaqq))\\n*   Fix a crash when document is set to `null` in tests. ([#22695](https://github.com/facebook/react/pull/22695)  by [@SimenB](https://github.com/SimenB))\\n*   Fix `onLoad` not triggering when concurrent features are on. ([#23316](https://github.com/facebook/react/pull/23316)  by [@gnoff](https://github.com/gnoff))\\n*   Fix a warning when a selector returns `NaN`.  ([#23333](https://github.com/facebook/react/pull/23333)  by [@hachibeeDI](https://github.com/hachibeeDI))\\n*   Fix a crash when document is set to `null` in tests. ([#22695](https://github.com/facebook/react/pull/22695) by [@SimenB](https://github.com/SimenB))\\n*   Fix the generated license header. ([#23004](https://github.com/facebook/react/pull/23004)  by [@vitaliemiron](https://github.com/vitaliemiron))\\n*   Add `package.json` as one of the entry points. ([#22954](https://github.com/facebook/react/pull/22954)  by [@Jack](https://github.com/Jack-Works))\\n*   Allow suspending outside a Suspense boundary. ([#23267](https://github.com/facebook/react/pull/23267)  by [@acdlite](https://github.com/acdlite))\\n*   Log a recoverable error whenever hydration fails. ([#23319](https://github.com/facebook/react/pull/23319)  by [@acdlite](https://github.com/acdlite))\\n\",\n",
       "   \"This document path is: docs/react/learn/synchronizing-with-effects.md / How to write an Effect {/how-to-write-an-effect/} / Step 3: Add cleanup if needed {/step-3-add-cleanup-if-needed/}.\\n\\nAnd the content is: To fix the issue, return a *cleanup function* from your Effect:\\n```js {4-6}\\n  useEffect(() => {\\n    const connection = createConnection();\\n    connection.connect();\\n    return () => {\\n      connection.disconnect();\\n    };\\n  }, []);\\n```\\nReact will call your cleanup function each time before the Effect runs again, and one final time when the component unmounts (gets removed). Let's see what happens when the cleanup function is implemented:\\n\",\n",
       "   'This document path is: docs/react/learn/you-might-not-need-an-effect.md / How to remove unnecessary Effects {/how-to-remove-unnecessary-effects/} / Fetching data {/fetching-data/}.\\n\\nAnd the content is: Many apps use Effects to kick off data fetching. It is quite common to write a data fetching Effect like this:\\n```js {5-10}\\nfunction SearchResults({ query }) {\\n  const [results, setResults] = useState([]);\\n  const [page, setPage] = useState(1);\\n\\n  useEffect(() => {\\n    // 🔴 Avoid: Fetching without cleanup logic\\n    fetchResults(query, page).then(json => {\\n      setResults(json);\\n    });\\n  }, [query, page]);\\n\\n  function handleNextPageClick() {\\n    setPage(page + 1);\\n  }\\n  // ...\\n}\\n```\\n',\n",
       "   \"This document path is: docs/react/reference/react/StrictMode.md / Usage {/usage/} / Fixing bugs found by re-running Effects in development {/fixing-bugs-found-by-re-running-effects-in-development/}.\\n\\nAnd the content is: ```css\\ninput { display: block; margin-bottom: 20px; }\\nbutton { margin-left: 10px; }\\n```\\nYou'll notice that the number of open connections always keeps growing. In a real app, this would cause performance and network problems. The issue is that [your Effect is missing a cleanup function:](/learn/synchronizing-with-effects#step-3-add-cleanup-if-needed)\\n\"]],\n",
       " 'metadatas': [[None, None, None, None, None, None, None, None, None, None]],\n",
       " 'distances': [[0.3304305076599121,\n",
       "   0.33610448241233826,\n",
       "   0.3391956686973572,\n",
       "   0.3451853096485138,\n",
       "   0.34654247760772705,\n",
       "   0.3483077585697174,\n",
       "   0.348763108253479,\n",
       "   0.3494679927825928,\n",
       "   0.3496426045894623,\n",
       "   0.35063958168029785]]}"
      ]
     },
     "execution_count": 22,
     "metadata": {},
     "output_type": "execute_result"
    }
   ],
   "source": [
    "results"
   ]
  },
  {
   "cell_type": "code",
   "execution_count": 24,
   "id": "4dd6e91d",
   "metadata": {},
   "outputs": [
    {
     "data": {
      "text/plain": [
       "True"
      ]
     },
     "execution_count": 24,
     "metadata": {},
     "output_type": "execute_result"
    }
   ],
   "source": [
    "chroma_client.persist()"
   ]
  },
  {
   "cell_type": "code",
   "execution_count": null,
   "id": "22cd6012",
   "metadata": {},
   "outputs": [],
   "source": []
  },
  {
   "cell_type": "code",
   "execution_count": null,
   "id": "59f75d89",
   "metadata": {},
   "outputs": [],
   "source": []
  },
  {
   "cell_type": "code",
   "execution_count": null,
   "id": "af7a0a8b",
   "metadata": {},
   "outputs": [],
   "source": []
  },
  {
   "cell_type": "code",
   "execution_count": null,
   "id": "c8814aed",
   "metadata": {},
   "outputs": [],
   "source": []
  },
  {
   "cell_type": "code",
   "execution_count": null,
   "id": "99a06107",
   "metadata": {},
   "outputs": [],
   "source": []
  },
  {
   "cell_type": "code",
   "execution_count": null,
   "id": "2881de50",
   "metadata": {},
   "outputs": [],
   "source": []
  }
 ],
 "metadata": {
  "kernelspec": {
   "display_name": "sems",
   "language": "python",
   "name": "sems"
  },
  "language_info": {
   "codemirror_mode": {
    "name": "ipython",
    "version": 3
   },
   "file_extension": ".py",
   "mimetype": "text/x-python",
   "name": "python",
   "nbconvert_exporter": "python",
   "pygments_lexer": "ipython3",
   "version": "3.10.6"
  }
 },
 "nbformat": 4,
 "nbformat_minor": 5
}
